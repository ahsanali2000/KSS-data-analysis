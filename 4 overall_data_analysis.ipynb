{
 "cells": [
  {
   "cell_type": "code",
   "execution_count": 2,
   "metadata": {},
   "outputs": [],
   "source": [
    "import pandas as pd"
   ]
  },
  {
   "cell_type": "code",
   "execution_count": 3,
   "metadata": {},
   "outputs": [],
   "source": [
    "df = pd.read_csv(\"facet-terms-for-082a_ClassificationDdc.csv\")"
   ]
  },
  {
   "cell_type": "code",
   "execution_count": 4,
   "metadata": {},
   "outputs": [
    {
     "data": {
      "text/html": [
       "<div>\n",
       "<style scoped>\n",
       "    .dataframe tbody tr th:only-of-type {\n",
       "        vertical-align: middle;\n",
       "    }\n",
       "\n",
       "    .dataframe tbody tr th {\n",
       "        vertical-align: top;\n",
       "    }\n",
       "\n",
       "    .dataframe thead th {\n",
       "        text-align: right;\n",
       "    }\n",
       "</style>\n",
       "<table border=\"1\" class=\"dataframe\">\n",
       "  <thead>\n",
       "    <tr style=\"text-align: right;\">\n",
       "      <th></th>\n",
       "      <th>term</th>\n",
       "      <th>count</th>\n",
       "    </tr>\n",
       "  </thead>\n",
       "  <tbody>\n",
       "    <tr>\n",
       "      <th>count</th>\n",
       "      <td>45487</td>\n",
       "      <td>45487.000000</td>\n",
       "    </tr>\n",
       "    <tr>\n",
       "      <th>unique</th>\n",
       "      <td>45487</td>\n",
       "      <td>NaN</td>\n",
       "    </tr>\n",
       "    <tr>\n",
       "      <th>top</th>\n",
       "      <td>2</td>\n",
       "      <td>NaN</td>\n",
       "    </tr>\n",
       "    <tr>\n",
       "      <th>freq</th>\n",
       "      <td>1</td>\n",
       "      <td>NaN</td>\n",
       "    </tr>\n",
       "    <tr>\n",
       "      <th>mean</th>\n",
       "      <td>NaN</td>\n",
       "      <td>9.490734</td>\n",
       "    </tr>\n",
       "    <tr>\n",
       "      <th>std</th>\n",
       "      <td>NaN</td>\n",
       "      <td>95.892351</td>\n",
       "    </tr>\n",
       "    <tr>\n",
       "      <th>min</th>\n",
       "      <td>NaN</td>\n",
       "      <td>1.000000</td>\n",
       "    </tr>\n",
       "    <tr>\n",
       "      <th>25%</th>\n",
       "      <td>NaN</td>\n",
       "      <td>1.000000</td>\n",
       "    </tr>\n",
       "    <tr>\n",
       "      <th>50%</th>\n",
       "      <td>NaN</td>\n",
       "      <td>1.000000</td>\n",
       "    </tr>\n",
       "    <tr>\n",
       "      <th>75%</th>\n",
       "      <td>NaN</td>\n",
       "      <td>2.000000</td>\n",
       "    </tr>\n",
       "    <tr>\n",
       "      <th>max</th>\n",
       "      <td>NaN</td>\n",
       "      <td>7506.000000</td>\n",
       "    </tr>\n",
       "  </tbody>\n",
       "</table>\n",
       "</div>"
      ],
      "text/plain": [
       "         term         count\n",
       "count   45487  45487.000000\n",
       "unique  45487           NaN\n",
       "top         2           NaN\n",
       "freq        1           NaN\n",
       "mean      NaN      9.490734\n",
       "std       NaN     95.892351\n",
       "min       NaN      1.000000\n",
       "25%       NaN      1.000000\n",
       "50%       NaN      1.000000\n",
       "75%       NaN      2.000000\n",
       "max       NaN   7506.000000"
      ]
     },
     "execution_count": 4,
     "metadata": {},
     "output_type": "execute_result"
    }
   ],
   "source": [
    "df.describe(include='all')"
   ]
  },
  {
   "cell_type": "markdown",
   "metadata": {},
   "source": [
    "It is visible from the above stats that there are 45487 rows of data which are all unique."
   ]
  },
  {
   "cell_type": "code",
   "execution_count": 5,
   "metadata": {},
   "outputs": [],
   "source": [
    "df_simple_term_resolution = pd.read_csv(\"combined_output.csv\")"
   ]
  },
  {
   "cell_type": "code",
   "execution_count": 6,
   "metadata": {},
   "outputs": [
    {
     "name": "stdout",
     "output_type": "stream",
     "text": [
      "Percentage of terms with values in 'Returned List': 100.00%\n"
     ]
    }
   ],
   "source": [
    "non_null_count = df_simple_term_resolution['Returned List'].notnull().sum()\n",
    "total_count = len(df)\n",
    "percentage_non_null = (non_null_count / total_count) * 100\n",
    "\n",
    "print(f\"Percentage of terms with values in 'Returned List': {percentage_non_null:.2f}%\")\n"
   ]
  },
  {
   "cell_type": "markdown",
   "metadata": {},
   "source": [
    "All the rows have returned values which means API returned some response for all the rows."
   ]
  },
  {
   "cell_type": "code",
   "execution_count": 7,
   "metadata": {},
   "outputs": [
    {
     "name": "stdout",
     "output_type": "stream",
     "text": [
      "Total rows: 45487\n",
      "Number of rows with valid responses: 10725\n",
      "Number of rows with empty lists: 40465\n",
      "Percentage of rows with valid responses: 23.58%\n",
      "Percentage of rows with empty lists: 88.96%\n"
     ]
    }
   ],
   "source": [
    "valid_responses = df_simple_term_resolution['Returned List'].apply(lambda x: x != '[]' and pd.notnull(x))\n",
    "\n",
    "valid_count = valid_responses.sum()\n",
    "\n",
    "empty_count = (~valid_responses).sum()\n",
    "\n",
    "total_count = len(df)\n",
    "\n",
    "\n",
    "print(f\"Total rows: {total_count}\")\n",
    "print(f\"Number of rows with valid responses: {valid_count}\")\n",
    "print(f\"Number of rows with empty lists: {empty_count}\")\n",
    "\n",
    "\n",
    "percentage_valid = (valid_count / total_count) * 100\n",
    "percentage_empty = (empty_count / total_count) * 100\n",
    "\n",
    "print(f\"Percentage of rows with valid responses: {percentage_valid:.2f}%\")\n",
    "print(f\"Percentage of rows with empty lists: {percentage_empty:.2f}%\")"
   ]
  },
  {
   "cell_type": "markdown",
   "metadata": {},
   "source": [
    "The above stats show us that 23.58% of terms were resolved using the first API while 76.42% of terms were not resolved.\n"
   ]
  },
  {
   "cell_type": "markdown",
   "metadata": {},
   "source": [
    "Number of simple resolved terms: 10725"
   ]
  },
  {
   "cell_type": "markdown",
   "metadata": {},
   "source": [
    "Now lets load and analyze the data after finding the gap for valid terms after first API"
   ]
  },
  {
   "cell_type": "code",
   "execution_count": 8,
   "metadata": {},
   "outputs": [],
   "source": [
    "df_with_gap= pd.read_csv(\"combined_output_with_gap.csv\")\n",
    "df_with_valid_reponse_from_API= df_simple_term_resolution[df_simple_term_resolution['Returned List'].apply(lambda x: len(str(x))>20)]"
   ]
  },
  {
   "cell_type": "markdown",
   "metadata": {},
   "source": [
    "Merging these two dataframes to find out percentage of valid terms with gap."
   ]
  },
  {
   "cell_type": "code",
   "execution_count": 9,
   "metadata": {},
   "outputs": [
    {
     "name": "stderr",
     "output_type": "stream",
     "text": [
      "/tmp/ipykernel_7979/1664961194.py:1: SettingWithCopyWarning: \n",
      "A value is trying to be set on a copy of a slice from a DataFrame.\n",
      "Try using .loc[row_indexer,col_indexer] = value instead\n",
      "\n",
      "See the caveats in the documentation: https://pandas.pydata.org/pandas-docs/stable/user_guide/indexing.html#returning-a-view-versus-a-copy\n",
      "  df_with_valid_reponse_from_API['term'] = df_with_valid_reponse_from_API['term'].astype(str)\n"
     ]
    }
   ],
   "source": [
    "df_with_valid_reponse_from_API['term'] = df_with_valid_reponse_from_API['term'].astype(str)\n",
    "df_with_gap['term'] = df_with_gap['term'].astype(str)"
   ]
  },
  {
   "cell_type": "code",
   "execution_count": 10,
   "metadata": {},
   "outputs": [],
   "source": [
    "df_with_gap_unique = df_with_gap.drop_duplicates(subset='term')\n"
   ]
  },
  {
   "cell_type": "code",
   "execution_count": 11,
   "metadata": {},
   "outputs": [],
   "source": [
    "df_merged_for_gap= pd.merge(df_with_valid_reponse_from_API, df_with_gap_unique[['term', 'HasGap']], on='term', how='left')"
   ]
  },
  {
   "cell_type": "code",
   "execution_count": 12,
   "metadata": {},
   "outputs": [
    {
     "name": "stdout",
     "output_type": "stream",
     "text": [
      "        Count  Percentage\n",
      "HasGap                   \n",
      "False    6396   66.266059\n",
      "True     3256   33.733941\n"
     ]
    }
   ],
   "source": [
    "count_values = df_merged_for_gap['HasGap'].value_counts()\n",
    "percentage_values = df_merged_for_gap['HasGap'].value_counts(normalize=True) * 100\n",
    "results = pd.DataFrame({\n",
    "    'Count': count_values,\n",
    "    'Percentage': percentage_values\n",
    "})\n",
    "\n",
    "print(results)"
   ]
  },
  {
   "cell_type": "markdown",
   "metadata": {},
   "source": [
    "There for 66.37% of valid terms after the first API resolution didn't have the gap while 33.73 has the gap."
   ]
  },
  {
   "cell_type": "markdown",
   "metadata": {},
   "source": [
    "Know lets move onto the second API that also resolves the complex terms from the auxilary tables."
   ]
  },
  {
   "cell_type": "markdown",
   "metadata": {},
   "source": [
    "Lets load the data after resolving the unresolved terms from the simple API using complex API."
   ]
  },
  {
   "cell_type": "code",
   "execution_count": 13,
   "metadata": {},
   "outputs": [],
   "source": [
    "df_complex_term_resolution= pd.read_csv(\"combined_output_with_new_API.csv\")"
   ]
  },
  {
   "cell_type": "code",
   "execution_count": 14,
   "metadata": {},
   "outputs": [],
   "source": [
    "df_complex_resolved_terms= df_complex_term_resolution[df_complex_term_resolution['Returned from second API'].apply(lambda x: len(str(x))>20)]"
   ]
  },
  {
   "cell_type": "markdown",
   "metadata": {},
   "source": [
    "We can see that 19898 terms are complex resolved terms which means that these terms existed in auxilary tables that is why first API could not resolve these terms but second API could resolve these terms.\n"
   ]
  },
  {
   "cell_type": "markdown",
   "metadata": {},
   "source": [
    "<center>\n",
    "<h2><b>Overall results:</b></h2>\n",
    "<h3><b>Total number of terms: 45487</b></h3>\n",
    "<h3><b>Simple resolved terms: 10725 (23.58%)</b></h3>\n",
    "<h3><b>Complex resolved terms: 19898 (43.75%)</b></h3>\n",
    "<h3><b>Total resolved terms: 30623 (67.33%)</b></h3>\n",
    "<h3><b>Invalid terms: 14864 (32.67%)</b></h3>\n",
    "</center>\n"
   ]
  }
 ],
 "metadata": {
  "kernelspec": {
   "display_name": "Python 3",
   "language": "python",
   "name": "python3"
  },
  "language_info": {
   "codemirror_mode": {
    "name": "ipython",
    "version": 3
   },
   "file_extension": ".py",
   "mimetype": "text/x-python",
   "name": "python",
   "nbconvert_exporter": "python",
   "pygments_lexer": "ipython3",
   "version": "3.10.12"
  }
 },
 "nbformat": 4,
 "nbformat_minor": 2
}
