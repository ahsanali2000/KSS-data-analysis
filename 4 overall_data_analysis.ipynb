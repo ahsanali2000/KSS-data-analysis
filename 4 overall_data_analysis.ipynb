{
 "cells": [
  {
   "cell_type": "code",
   "execution_count": 6,
   "metadata": {},
   "outputs": [],
   "source": [
    "import pandas as pd"
   ]
  },
  {
   "cell_type": "code",
   "execution_count": 7,
   "metadata": {},
   "outputs": [],
   "source": [
    "df = pd.read_csv(\"facet-terms-for-082a_ClassificationDdc.csv\")"
   ]
  },
  {
   "cell_type": "code",
   "execution_count": 8,
   "metadata": {},
   "outputs": [
    {
     "data": {
      "text/html": [
       "<div>\n",
       "<style scoped>\n",
       "    .dataframe tbody tr th:only-of-type {\n",
       "        vertical-align: middle;\n",
       "    }\n",
       "\n",
       "    .dataframe tbody tr th {\n",
       "        vertical-align: top;\n",
       "    }\n",
       "\n",
       "    .dataframe thead th {\n",
       "        text-align: right;\n",
       "    }\n",
       "</style>\n",
       "<table border=\"1\" class=\"dataframe\">\n",
       "  <thead>\n",
       "    <tr style=\"text-align: right;\">\n",
       "      <th></th>\n",
       "      <th>term</th>\n",
       "      <th>count</th>\n",
       "    </tr>\n",
       "  </thead>\n",
       "  <tbody>\n",
       "    <tr>\n",
       "      <th>count</th>\n",
       "      <td>45487</td>\n",
       "      <td>45487.000000</td>\n",
       "    </tr>\n",
       "    <tr>\n",
       "      <th>unique</th>\n",
       "      <td>45487</td>\n",
       "      <td>NaN</td>\n",
       "    </tr>\n",
       "    <tr>\n",
       "      <th>top</th>\n",
       "      <td>2</td>\n",
       "      <td>NaN</td>\n",
       "    </tr>\n",
       "    <tr>\n",
       "      <th>freq</th>\n",
       "      <td>1</td>\n",
       "      <td>NaN</td>\n",
       "    </tr>\n",
       "    <tr>\n",
       "      <th>mean</th>\n",
       "      <td>NaN</td>\n",
       "      <td>9.490734</td>\n",
       "    </tr>\n",
       "    <tr>\n",
       "      <th>std</th>\n",
       "      <td>NaN</td>\n",
       "      <td>95.892351</td>\n",
       "    </tr>\n",
       "    <tr>\n",
       "      <th>min</th>\n",
       "      <td>NaN</td>\n",
       "      <td>1.000000</td>\n",
       "    </tr>\n",
       "    <tr>\n",
       "      <th>25%</th>\n",
       "      <td>NaN</td>\n",
       "      <td>1.000000</td>\n",
       "    </tr>\n",
       "    <tr>\n",
       "      <th>50%</th>\n",
       "      <td>NaN</td>\n",
       "      <td>1.000000</td>\n",
       "    </tr>\n",
       "    <tr>\n",
       "      <th>75%</th>\n",
       "      <td>NaN</td>\n",
       "      <td>2.000000</td>\n",
       "    </tr>\n",
       "    <tr>\n",
       "      <th>max</th>\n",
       "      <td>NaN</td>\n",
       "      <td>7506.000000</td>\n",
       "    </tr>\n",
       "  </tbody>\n",
       "</table>\n",
       "</div>"
      ],
      "text/plain": [
       "         term         count\n",
       "count   45487  45487.000000\n",
       "unique  45487           NaN\n",
       "top         2           NaN\n",
       "freq        1           NaN\n",
       "mean      NaN      9.490734\n",
       "std       NaN     95.892351\n",
       "min       NaN      1.000000\n",
       "25%       NaN      1.000000\n",
       "50%       NaN      1.000000\n",
       "75%       NaN      2.000000\n",
       "max       NaN   7506.000000"
      ]
     },
     "execution_count": 8,
     "metadata": {},
     "output_type": "execute_result"
    }
   ],
   "source": [
    "df.describe(include='all')"
   ]
  },
  {
   "cell_type": "markdown",
   "metadata": {},
   "source": [
    "It is visible from the above stats that there are 45487 rows of data which are all unique."
   ]
  },
  {
   "cell_type": "code",
   "execution_count": 9,
   "metadata": {},
   "outputs": [],
   "source": [
    "df_simple_term_resolution = pd.read_csv(\"combined_output.csv\")"
   ]
  },
  {
   "cell_type": "code",
   "execution_count": 10,
   "metadata": {},
   "outputs": [
    {
     "name": "stdout",
     "output_type": "stream",
     "text": [
      "Percentage of terms with values in 'Returned List': 100.00%\n"
     ]
    }
   ],
   "source": [
    "non_null_count = df_simple_term_resolution['Returned List'].notnull().sum()\n",
    "total_count = len(df)\n",
    "percentage_non_null = (non_null_count / total_count) * 100\n",
    "\n",
    "print(f\"Percentage of terms with values in 'Returned List': {percentage_non_null:.2f}%\")\n"
   ]
  },
  {
   "cell_type": "markdown",
   "metadata": {},
   "source": [
    "All the rows have returned values which means API returned some response for all the rows."
   ]
  },
  {
   "cell_type": "code",
   "execution_count": 11,
   "metadata": {},
   "outputs": [
    {
     "name": "stdout",
     "output_type": "stream",
     "text": [
      "Total rows: 45487\n",
      "Number of rows with valid responses: 10725\n",
      "Number of rows with empty lists: 40465\n",
      "Percentage of rows with valid responses: 23.58%\n",
      "Percentage of rows with empty lists: 88.96%\n"
     ]
    }
   ],
   "source": [
    "valid_responses = df_simple_term_resolution['Returned List'].apply(lambda x: x != '[]' and pd.notnull(x))\n",
    "\n",
    "valid_count = valid_responses.sum()\n",
    "\n",
    "empty_count = (~valid_responses).sum()\n",
    "\n",
    "total_count = len(df)\n",
    "\n",
    "\n",
    "print(f\"Total rows: {total_count}\")\n",
    "print(f\"Number of rows with valid responses: {valid_count}\")\n",
    "print(f\"Number of rows with empty lists: {empty_count}\")\n",
    "\n",
    "\n",
    "percentage_valid = (valid_count / total_count) * 100\n",
    "percentage_empty = (empty_count / total_count) * 100\n",
    "\n",
    "print(f\"Percentage of rows with valid responses: {percentage_valid:.2f}%\")\n",
    "print(f\"Percentage of rows with empty lists: {percentage_empty:.2f}%\")"
   ]
  },
  {
   "cell_type": "markdown",
   "metadata": {},
   "source": [
    "The above stats show us that 23.58% of terms were resolved using the first API while 76.42% of terms were not resolved."
   ]
  },
  {
   "cell_type": "markdown",
   "metadata": {},
   "source": [
    "Now lets load and analyze the data after finding the gap for valid terms after first API"
   ]
  },
  {
   "cell_type": "code",
   "execution_count": 16,
   "metadata": {},
   "outputs": [],
   "source": [
    "df_with_gap= pd.read_csv(\"combined_output_with_gap.csv\")\n",
    "df_with_valid_reponse_from_API= df_simple_term_resolution[df_simple_term_resolution['Returned List'].apply(lambda x: len(str(x))>20)]"
   ]
  },
  {
   "cell_type": "markdown",
   "metadata": {},
   "source": [
    "Merging these two dataframes to find out percentage of valid terms with gap."
   ]
  },
  {
   "cell_type": "code",
   "execution_count": 21,
   "metadata": {},
   "outputs": [
    {
     "name": "stderr",
     "output_type": "stream",
     "text": [
      "/tmp/ipykernel_28621/1664961194.py:1: SettingWithCopyWarning: \n",
      "A value is trying to be set on a copy of a slice from a DataFrame.\n",
      "Try using .loc[row_indexer,col_indexer] = value instead\n",
      "\n",
      "See the caveats in the documentation: https://pandas.pydata.org/pandas-docs/stable/user_guide/indexing.html#returning-a-view-versus-a-copy\n",
      "  df_with_valid_reponse_from_API['term'] = df_with_valid_reponse_from_API['term'].astype(str)\n"
     ]
    }
   ],
   "source": [
    "df_with_valid_reponse_from_API['term'] = df_with_valid_reponse_from_API['term'].astype(str)\n",
    "df_with_gap['term'] = df_with_gap['term'].astype(str)"
   ]
  },
  {
   "cell_type": "code",
   "execution_count": 29,
   "metadata": {},
   "outputs": [],
   "source": [
    "df_with_gap_unique = df_with_gap.drop_duplicates(subset='term')\n"
   ]
  },
  {
   "cell_type": "code",
   "execution_count": 30,
   "metadata": {},
   "outputs": [],
   "source": [
    "df_merged_for_gap= pd.merge(df_with_valid_reponse_from_API, df_with_gap_unique[['term', 'HasGap']], on='term', how='left')"
   ]
  },
  {
   "cell_type": "code",
   "execution_count": 33,
   "metadata": {},
   "outputs": [
    {
     "name": "stdout",
     "output_type": "stream",
     "text": [
      "        Count  Percentage\n",
      "HasGap                   \n",
      "False    6396   66.266059\n",
      "True     3256   33.733941\n"
     ]
    }
   ],
   "source": [
    "count_values = df_merged_for_gap['HasGap'].value_counts()\n",
    "percentage_values = df_merged_for_gap['HasGap'].value_counts(normalize=True) * 100\n",
    "results = pd.DataFrame({\n",
    "    'Count': count_values,\n",
    "    'Percentage': percentage_values\n",
    "})\n",
    "\n",
    "print(results)"
   ]
  },
  {
   "cell_type": "markdown",
   "metadata": {},
   "source": [
    "There for 66.37% of valid terms after the first API resolution didn't have the gap while 33.73 has the gap."
   ]
  },
  {
   "cell_type": "markdown",
   "metadata": {},
   "source": [
    "Know lets move onto the second API that also resolves the complex terms from the auxilary tables."
   ]
  },
  {
   "cell_type": "markdown",
   "metadata": {},
   "source": [
    "Lets load the data after resolving the unresolved terms from the simple API using complex API."
   ]
  },
  {
   "cell_type": "code",
   "execution_count": 34,
   "metadata": {},
   "outputs": [],
   "source": [
    "df_complex_term_resolution= pd.read_csv(\"combined_output_with_new_API.csv\")"
   ]
  },
  {
   "cell_type": "code",
   "execution_count": 35,
   "metadata": {},
   "outputs": [
    {
     "data": {
      "text/html": [
       "<div>\n",
       "<style scoped>\n",
       "    .dataframe tbody tr th:only-of-type {\n",
       "        vertical-align: middle;\n",
       "    }\n",
       "\n",
       "    .dataframe tbody tr th {\n",
       "        vertical-align: top;\n",
       "    }\n",
       "\n",
       "    .dataframe thead th {\n",
       "        text-align: right;\n",
       "    }\n",
       "</style>\n",
       "<table border=\"1\" class=\"dataframe\">\n",
       "  <thead>\n",
       "    <tr style=\"text-align: right;\">\n",
       "      <th></th>\n",
       "      <th>Unnamed: 0</th>\n",
       "      <th>term</th>\n",
       "      <th>Response Code</th>\n",
       "      <th>Returned List</th>\n",
       "      <th>count</th>\n",
       "      <th>Returned from second API</th>\n",
       "    </tr>\n",
       "  </thead>\n",
       "  <tbody>\n",
       "    <tr>\n",
       "      <th>0</th>\n",
       "      <td>0</td>\n",
       "      <td>0</td>\n",
       "      <td>200.0</td>\n",
       "      <td>[{'notation': ['000'], 'inScheme': [{'uri': 'h...</td>\n",
       "      <td>12.0</td>\n",
       "      <td>[{'uri': 'http://dewey.info/class/000.00/e23/'...</td>\n",
       "    </tr>\n",
       "    <tr>\n",
       "      <th>1</th>\n",
       "      <td>1</td>\n",
       "      <td>0</td>\n",
       "      <td>200.0</td>\n",
       "      <td>[{'uri': 'http://dewey.info/class/0/e23/', 'mo...</td>\n",
       "      <td>12.0</td>\n",
       "      <td>[{'uri': 'http://dewey.info/class/000.00/e23/'...</td>\n",
       "    </tr>\n",
       "    <tr>\n",
       "      <th>2</th>\n",
       "      <td>2</td>\n",
       "      <td>0</td>\n",
       "      <td>200.0</td>\n",
       "      <td>[{'notation': ['00'], 'inScheme': [{'uri': 'ht...</td>\n",
       "      <td>12.0</td>\n",
       "      <td>[{'uri': 'http://dewey.info/class/000.00/e23/'...</td>\n",
       "    </tr>\n",
       "    <tr>\n",
       "      <th>3</th>\n",
       "      <td>3</td>\n",
       "      <td>0</td>\n",
       "      <td>200.0</td>\n",
       "      <td>[]</td>\n",
       "      <td>12.0</td>\n",
       "      <td>[{'uri': 'http://dewey.info/class/000.00/e23/'...</td>\n",
       "    </tr>\n",
       "    <tr>\n",
       "      <th>4</th>\n",
       "      <td>4</td>\n",
       "      <td>00</td>\n",
       "      <td>NaN</td>\n",
       "      <td>NaN</td>\n",
       "      <td>1.0</td>\n",
       "      <td>[]\\n</td>\n",
       "    </tr>\n",
       "    <tr>\n",
       "      <th>...</th>\n",
       "      <td>...</td>\n",
       "      <td>...</td>\n",
       "      <td>...</td>\n",
       "      <td>...</td>\n",
       "      <td>...</td>\n",
       "      <td>...</td>\n",
       "    </tr>\n",
       "    <tr>\n",
       "      <th>53399</th>\n",
       "      <td>53399</td>\n",
       "      <td>zot</td>\n",
       "      <td>200.0</td>\n",
       "      <td>[]</td>\n",
       "      <td>1.0</td>\n",
       "      <td>NaN</td>\n",
       "    </tr>\n",
       "    <tr>\n",
       "      <th>53400</th>\n",
       "      <td>53400</td>\n",
       "      <td>zs95f</td>\n",
       "      <td>200.0</td>\n",
       "      <td>[]</td>\n",
       "      <td>1.0</td>\n",
       "      <td>NaN</td>\n",
       "    </tr>\n",
       "    <tr>\n",
       "      <th>53401</th>\n",
       "      <td>53401</td>\n",
       "      <td>zur</td>\n",
       "      <td>200.0</td>\n",
       "      <td>[]</td>\n",
       "      <td>1.0</td>\n",
       "      <td>NaN</td>\n",
       "    </tr>\n",
       "    <tr>\n",
       "      <th>53402</th>\n",
       "      <td>53402</td>\n",
       "      <td>zw315m</td>\n",
       "      <td>200.0</td>\n",
       "      <td>[]</td>\n",
       "      <td>1.0</td>\n",
       "      <td>NaN</td>\n",
       "    </tr>\n",
       "    <tr>\n",
       "      <th>53403</th>\n",
       "      <td>53403</td>\n",
       "      <td>zz</td>\n",
       "      <td>200.0</td>\n",
       "      <td>[]</td>\n",
       "      <td>1.0</td>\n",
       "      <td>NaN</td>\n",
       "    </tr>\n",
       "  </tbody>\n",
       "</table>\n",
       "<p>53404 rows × 6 columns</p>\n",
       "</div>"
      ],
      "text/plain": [
       "       Unnamed: 0    term  Response Code  \\\n",
       "0               0       0          200.0   \n",
       "1               1       0          200.0   \n",
       "2               2       0          200.0   \n",
       "3               3       0          200.0   \n",
       "4               4      00            NaN   \n",
       "...           ...     ...            ...   \n",
       "53399       53399     zot          200.0   \n",
       "53400       53400   zs95f          200.0   \n",
       "53401       53401     zur          200.0   \n",
       "53402       53402  zw315m          200.0   \n",
       "53403       53403      zz          200.0   \n",
       "\n",
       "                                           Returned List  count  \\\n",
       "0      [{'notation': ['000'], 'inScheme': [{'uri': 'h...   12.0   \n",
       "1      [{'uri': 'http://dewey.info/class/0/e23/', 'mo...   12.0   \n",
       "2      [{'notation': ['00'], 'inScheme': [{'uri': 'ht...   12.0   \n",
       "3                                                     []   12.0   \n",
       "4                                                    NaN    1.0   \n",
       "...                                                  ...    ...   \n",
       "53399                                                 []    1.0   \n",
       "53400                                                 []    1.0   \n",
       "53401                                                 []    1.0   \n",
       "53402                                                 []    1.0   \n",
       "53403                                                 []    1.0   \n",
       "\n",
       "                                Returned from second API  \n",
       "0      [{'uri': 'http://dewey.info/class/000.00/e23/'...  \n",
       "1      [{'uri': 'http://dewey.info/class/000.00/e23/'...  \n",
       "2      [{'uri': 'http://dewey.info/class/000.00/e23/'...  \n",
       "3      [{'uri': 'http://dewey.info/class/000.00/e23/'...  \n",
       "4                                                   []\\n  \n",
       "...                                                  ...  \n",
       "53399                                                NaN  \n",
       "53400                                                NaN  \n",
       "53401                                                NaN  \n",
       "53402                                                NaN  \n",
       "53403                                                NaN  \n",
       "\n",
       "[53404 rows x 6 columns]"
      ]
     },
     "execution_count": 35,
     "metadata": {},
     "output_type": "execute_result"
    }
   ],
   "source": [
    "df_complex_term_resolution"
   ]
  },
  {
   "cell_type": "code",
   "execution_count": null,
   "metadata": {},
   "outputs": [],
   "source": []
  }
 ],
 "metadata": {
  "kernelspec": {
   "display_name": "Python 3",
   "language": "python",
   "name": "python3"
  },
  "language_info": {
   "codemirror_mode": {
    "name": "ipython",
    "version": 3
   },
   "file_extension": ".py",
   "mimetype": "text/x-python",
   "name": "python",
   "nbconvert_exporter": "python",
   "pygments_lexer": "ipython3",
   "version": "3.10.12"
  }
 },
 "nbformat": 4,
 "nbformat_minor": 2
}
